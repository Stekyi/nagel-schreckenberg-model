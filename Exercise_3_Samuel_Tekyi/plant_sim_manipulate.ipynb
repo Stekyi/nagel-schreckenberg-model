{
 "cells": [
  {
   "cell_type": "code",
   "id": "37b9c022",
   "metadata": {
    "ExecuteTime": {
     "end_time": "2025-05-21T02:34:37.990748Z",
     "start_time": "2025-05-21T02:34:37.971748Z"
    }
   },
   "source": [
    "import win32com.client\n",
    "import time\n",
    "from texttable import Texttable\n",
    "import os\n",
    "print(os.path.exists(\"plantsim.spp\"))\n",
    "\n"
   ],
   "outputs": [
    {
     "name": "stdout",
     "output_type": "stream",
     "text": [
      "True\n"
     ]
    }
   ],
   "execution_count": 4
  },
  {
   "metadata": {
    "ExecuteTime": {
     "end_time": "2025-05-21T02:31:43.775224Z",
     "start_time": "2025-05-21T02:31:42.238493Z"
    }
   },
   "cell_type": "code",
   "source": [
    "app = win32com.client.Dispatch(\"Tecnomatix.PlantSimulation.RemoteControl.16.1\")\n",
    "app.setVisible(True)   # make the GUI appear (see **Troubleshooting** if this fails)\n"
   ],
   "id": "3e09975a2bbd83e9",
   "outputs": [],
   "execution_count": 2
  },
  {
   "metadata": {
    "ExecuteTime": {
     "end_time": "2025-05-21T02:35:12.719527Z",
     "start_time": "2025-05-21T02:35:12.702036Z"
    }
   },
   "cell_type": "code",
   "source": "model_path = os.path.abspath(\"plantsim.spp\")\n",
   "id": "5dbf348dd0707027",
   "outputs": [],
   "execution_count": 7
  },
  {
   "metadata": {
    "ExecuteTime": {
     "end_time": "2025-05-21T02:35:24.602057Z",
     "start_time": "2025-05-21T02:35:17.067790Z"
    }
   },
   "cell_type": "code",
   "source": [
    " # full path to your model file\n",
    "app.loadModel(model_path)\n"
   ],
   "id": "98b8736f40374c40",
   "outputs": [],
   "execution_count": 8
  },
  {
   "metadata": {
    "ExecuteTime": {
     "end_time": "2025-05-21T02:35:37.162671Z",
     "start_time": "2025-05-21T02:35:37.108784Z"
    }
   },
   "cell_type": "code",
   "source": [
    "# Example: set context to the model frame (adjust the path to your model structure)\n",
    "app.setPathContext(\".Models.Model\")   # usually the model name or root context\n"
   ],
   "id": "fca6a55e64a825aa",
   "outputs": [],
   "execution_count": 9
  },
  {
   "metadata": {
    "ExecuteTime": {
     "end_time": "2025-05-21T02:35:56.697383Z",
     "start_time": "2025-05-21T02:35:54.648641Z"
    }
   },
   "cell_type": "code",
   "source": [
    "# Reset and run the simulation\n",
    "app.resetSimulation(\".Models.Model.EventController\")\n",
    "app.startSimulation(\".Models.Model.EventController\")\n",
    "\n",
    "while app.isSimulationRunning():\n",
    "    time.sleep(0.5)   # wait for sim to finish\n",
    "print(\"Simulation finished\")\n"
   ],
   "id": "fd5d4551ddf5d837",
   "outputs": [
    {
     "name": "stdout",
     "output_type": "stream",
     "text": [
      "Simulation finished\n"
     ]
    }
   ],
   "execution_count": 10
  },
  {
   "metadata": {
    "ExecuteTime": {
     "end_time": "2025-05-21T02:09:58.197939Z",
     "start_time": "2025-05-21T02:09:58.144574Z"
    }
   },
   "cell_type": "code",
   "source": "val = app.getValue(\".Models.Model.simtable[1,1]\")\n",
   "id": "a596c388f2e298ea",
   "outputs": [],
   "execution_count": 29
  },
  {
   "metadata": {
    "ExecuteTime": {
     "end_time": "2025-05-21T02:36:12.812585Z",
     "start_time": "2025-05-21T02:36:12.768052Z"
    }
   },
   "cell_type": "code",
   "source": [
    "# Path to the table in your model\n",
    "table_path = \".Models.Model.simtable\"  # Adjust if the table has a different path\n",
    "\n",
    "# Get number of rows and columns\n",
    "# Dynamically get dimensions\n",
    "n_rows = app.getValue(f\"{table_path}.YDim\")\n",
    "n_cols = app.getValue(f\"{table_path}.XDim\")\n"
   ],
   "id": "8b21206c038ffbe2",
   "outputs": [],
   "execution_count": 11
  },
  {
   "metadata": {
    "ExecuteTime": {
     "end_time": "2025-05-21T02:36:17.730802Z",
     "start_time": "2025-05-21T02:36:17.692218Z"
    }
   },
   "cell_type": "code",
   "source": "print(n_cols, n_rows)",
   "id": "b85935903cb6411b",
   "outputs": [
    {
     "name": "stdout",
     "output_type": "stream",
     "text": [
      "4 1\n"
     ]
    }
   ],
   "execution_count": 12
  },
  {
   "metadata": {
    "ExecuteTime": {
     "end_time": "2025-05-21T02:36:19.558936Z",
     "start_time": "2025-05-21T02:36:19.529129Z"
    }
   },
   "cell_type": "code",
   "source": [
    "# Suppose Results has 3 columns and 5 rows\n",
    "results_data = []\n",
    "for col in range(1, n_cols+1):\n",
    "    col_data = []\n",
    "    for row in range(1, n_rows+1):\n",
    "        # get cell at (col, row)\n",
    "        cell_val = app.getValue(f\".Models.Model.simtable[{col},{row}]\")\n",
    "        col_data.append(cell_val)\n",
    "    results_data.append(col_data)\n",
    "\n"
   ],
   "id": "f169bfb50ab45ad4",
   "outputs": [],
   "execution_count": 13
  },
  {
   "metadata": {
    "ExecuteTime": {
     "end_time": "2025-05-21T02:36:24.640225Z",
     "start_time": "2025-05-21T02:36:24.574253Z"
    }
   },
   "cell_type": "code",
   "source": "results_data",
   "id": "6610b17d1ce7be3a",
   "outputs": [
    {
     "data": {
      "text/plain": [
       "[[1897.0], [198], [197], [105]]"
      ]
     },
     "execution_count": 14,
     "metadata": {},
     "output_type": "execute_result"
    }
   ],
   "execution_count": 14
  },
  {
   "metadata": {
    "ExecuteTime": {
     "end_time": "2025-05-21T02:36:26.661191Z",
     "start_time": "2025-05-21T02:36:26.629959Z"
    }
   },
   "cell_type": "code",
   "source": [
    "\n",
    "# Use texttable to print nicely (optional)\n",
    "table = Texttable()\n",
    "for row in zip(*results_data):  # transpose to iterate by rows\n",
    "    table.add_row(row)\n",
    "print(table.draw())"
   ],
   "id": "153e07b09f62156c",
   "outputs": [
    {
     "name": "stdout",
     "output_type": "stream",
     "text": [
      "+------+-----+-----+-----+\n",
      "| 1897 | 198 | 197 | 105 |\n",
      "+------+-----+-----+-----+\n"
     ]
    }
   ],
   "execution_count": 15
  },
  {
   "metadata": {
    "ExecuteTime": {
     "end_time": "2025-05-21T02:36:31.730733Z",
     "start_time": "2025-05-21T02:36:31.698280Z"
    }
   },
   "cell_type": "code",
   "source": "app.setValue(\".Models.Model.simtable[2,1]\", 42)\n",
   "id": "702327eaa4805d31",
   "outputs": [],
   "execution_count": 16
  },
  {
   "metadata": {
    "ExecuteTime": {
     "end_time": "2025-05-21T02:36:37.055132Z",
     "start_time": "2025-05-21T02:36:34.473546Z"
    }
   },
   "cell_type": "code",
   "source": "app.saveModel(model_path)  # saves the model file with changes\n",
   "id": "3d5622ccd46bb06e",
   "outputs": [],
   "execution_count": 17
  },
  {
   "metadata": {
    "ExecuteTime": {
     "end_time": "2025-05-21T02:36:42.640353Z",
     "start_time": "2025-05-21T02:36:41.525724Z"
    }
   },
   "cell_type": "code",
   "source": [
    "app.closeModel()   # closes the current model\n",
    "app.quit()         # exits the Plant Simulation application\n"
   ],
   "id": "40e6ecc392114e74",
   "outputs": [],
   "execution_count": 18
  }
 ],
 "metadata": {
  "kernelspec": {
   "display_name": "Python 3",
   "language": "python",
   "name": "python3"
  },
  "language_info": {
   "codemirror_mode": {
    "name": "ipython",
    "version": 3
   },
   "file_extension": ".py",
   "mimetype": "text/x-python",
   "name": "python",
   "nbconvert_exporter": "python",
   "pygments_lexer": "ipython3",
   "version": "3.10.7"
  }
 },
 "nbformat": 4,
 "nbformat_minor": 5
}
